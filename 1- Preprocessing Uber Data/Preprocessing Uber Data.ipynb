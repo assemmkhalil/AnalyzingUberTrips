{
 "cells": [
  {
   "cell_type": "code",
   "execution_count": null,
   "id": "2e3f50cc",
   "metadata": {},
   "outputs": [],
   "source": [
    "import pandas as pd"
   ]
  },
  {
   "cell_type": "code",
   "execution_count": null,
   "id": "31be6265",
   "metadata": {},
   "outputs": [],
   "source": [
    "# Reading the data\n",
    "\n",
    "uber_apr = pd.read_csv('uber-raw-data-apr14.csv')\n",
    "uber_may = pd.read_csv('uber-raw-data-may14.csv')\n",
    "uber_jun = pd.read_csv('uber-raw-data-jun14.csv')\n",
    "uber_jul = pd.read_csv('uber-raw-data-jul14.csv')\n",
    "uber_aug = pd.read_csv('uber-raw-data-aug14.csv')\n",
    "uber_sep = pd.read_csv('uber-raw-data-sep14.csv')"
   ]
  },
  {
   "cell_type": "code",
   "execution_count": null,
   "id": "cc453e86",
   "metadata": {},
   "outputs": [],
   "source": [
    "# Concating the data\n",
    "\n",
    "uber_dfs = [uber_apr, uber_may, uber_jun, uber_jul, uber_aug, uber_sep]\n",
    "uber_df = pd.concat(uber_dfs, axis=0)"
   ]
  },
  {
   "cell_type": "code",
   "execution_count": null,
   "id": "5faa51ce",
   "metadata": {},
   "outputs": [],
   "source": [
    "uber_df.head()"
   ]
  },
  {
   "cell_type": "code",
   "execution_count": null,
   "id": "cb7da58e",
   "metadata": {},
   "outputs": [],
   "source": [
    "uber_df.rename(columns={'Date/Time':'date_time', 'Lat':'latitude', 'Lon':'longitude', 'Base':'base'}, inplace=True)"
   ]
  },
  {
   "cell_type": "code",
   "execution_count": null,
   "id": "cea95cca",
   "metadata": {},
   "outputs": [],
   "source": [
    "uber_df.info()"
   ]
  },
  {
   "cell_type": "markdown",
   "id": "c30551f6",
   "metadata": {},
   "source": [
    "- There are 4,534,327 rows and 4 columns. <br>\n",
    "\n",
    "We will parse the date to be compatible with SQL format \"YYYY-MM-DD\" and then parse the pickup hour from the time."
   ]
  },
  {
   "cell_type": "code",
   "execution_count": null,
   "id": "d2ac931c",
   "metadata": {},
   "outputs": [],
   "source": [
    "uber_df.date_time = pd.to_datetime(uber_df.date_time)"
   ]
  },
  {
   "cell_type": "code",
   "execution_count": null,
   "id": "fe1b1fd0",
   "metadata": {},
   "outputs": [],
   "source": [
    "uber_df['pickup_date'] = uber_df.date_time.dt.date\n",
    "uber_df.pickup_date = pd.to_datetime(uber_df.pickup_date)"
   ]
  },
  {
   "cell_type": "code",
   "execution_count": null,
   "id": "13d7c103",
   "metadata": {},
   "outputs": [],
   "source": [
    "uber_df['pickup_hour'] = uber_df.date_time.dt.hour"
   ]
  },
  {
   "cell_type": "code",
   "execution_count": null,
   "id": "9067fbe3",
   "metadata": {},
   "outputs": [],
   "source": [
    "# Validating\n",
    "\n",
    "uber_df.info()"
   ]
  },
  {
   "cell_type": "code",
   "execution_count": null,
   "id": "0d624013",
   "metadata": {},
   "outputs": [],
   "source": [
    "filt_df = uber_df[['pickup_date', 'pickup_hour', 'latitude', 'longitude']]"
   ]
  },
  {
   "cell_type": "code",
   "execution_count": null,
   "id": "8a9bb30c",
   "metadata": {},
   "outputs": [],
   "source": [
    "filt_df.to_csv('uber_pickups.csv', index=False)"
   ]
  },
  {
   "cell_type": "code",
   "execution_count": null,
   "id": "7d9e5224",
   "metadata": {},
   "outputs": [],
   "source": []
  },
  {
   "cell_type": "code",
   "execution_count": null,
   "id": "3687cd3e",
   "metadata": {},
   "outputs": [],
   "source": []
  }
 ],
 "metadata": {
  "kernelspec": {
   "display_name": "Python 3 (ipykernel)",
   "language": "python",
   "name": "python3"
  },
  "language_info": {
   "codemirror_mode": {
    "name": "ipython",
    "version": 3
   },
   "file_extension": ".py",
   "mimetype": "text/x-python",
   "name": "python",
   "nbconvert_exporter": "python",
   "pygments_lexer": "ipython3",
   "version": "3.10.7"
  }
 },
 "nbformat": 4,
 "nbformat_minor": 5
}
