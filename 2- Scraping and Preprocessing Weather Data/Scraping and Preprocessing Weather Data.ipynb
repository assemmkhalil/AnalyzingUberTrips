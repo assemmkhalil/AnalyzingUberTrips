{
 "cells": [
  {
   "cell_type": "code",
   "execution_count": null,
   "id": "3f3d1d72",
   "metadata": {},
   "outputs": [],
   "source": [
    "import requests\n",
    "from bs4 import BeautifulSoup\n",
    "import pandas as pd\n",
    "from datetime import datetime\n",
    "import re"
   ]
  },
  {
   "cell_type": "markdown",
   "id": "2e4704f3",
   "metadata": {},
   "source": [
    "### Data Scraping"
   ]
  },
  {
   "cell_type": "markdown",
   "id": "8fdbd1a0",
   "metadata": {},
   "source": [
    "We will scrape the hourly weather status for the months of April through September 2014 from the website \"Weather Spark\"."
   ]
  },
  {
   "cell_type": "code",
   "execution_count": null,
   "id": "a1f44e8d",
   "metadata": {},
   "outputs": [],
   "source": [
    "def remove_empty_strings(data):\n",
    "    \"\"\"\n",
    "    This recursive function removes empty strings that may result from the scraping process.\n",
    "    Args: data structure (nested list).\n",
    "    Returns: cleaned data structre.\n",
    "    \"\"\"\n",
    "    if isinstance(data, list):\n",
    "        return [remove_empty_strings(item) for item in data if item != '']\n",
    "    else:\n",
    "        return data"
   ]
  },
  {
   "cell_type": "code",
   "execution_count": null,
   "id": "7202b64f",
   "metadata": {},
   "outputs": [],
   "source": [
    "def weather_scraping(year, days_of_months):\n",
    "    \"\"\"\n",
    "    This function scrapes the hourly weather status.\n",
    "    Args: the year, and a dictionary of the months and the corresponding number of days in each month.\n",
    "    Returns: a nested list where each sublist contains the weather status for an hour.\n",
    "    \"\"\"\n",
    "    rows = []\n",
    "    \n",
    "    for month in days_of_months:\n",
    "        for day in range(1, days_of_months[month]+1):\n",
    "            url = f'https://weatherspark.com/h/d/23912/{year}/{month}/{day}/' \\\n",
    "                   'Historical-Weather-on-Tuesday-April-1-2014-in-New-York-City-New-York-United-States'\n",
    "            \n",
    "            response = requests.get(url)\n",
    "            if response.status_code == 200:\n",
    "                source_code = response.text\n",
    "                soup = BeautifulSoup(source_code, 'lxml')\n",
    "                table = soup.find('table', class_='History-MetarReports-outer_table')\n",
    "                \n",
    "                # Iterating over the hours from 00 to 19\n",
    "                for i in range(2):\n",
    "                    for j in range(10):\n",
    "                        new_row = []\n",
    "                        records = table.find_all('tr', id=f'metar-{i}{j}-51')\n",
    "                        for record in records:\n",
    "                            if record.find('td', class_='nowrap b'):\n",
    "                                for cell in record:\n",
    "                                    new_row.append(cell.text.strip())\n",
    "                        new_row.insert(0, f'{year}-{month}-{day}')\n",
    "                        rows.append(new_row)\n",
    "                \n",
    "                # Iterating over the hours from 20 to 23\n",
    "                for i in range(2, 3):\n",
    "                    for j in range(4):\n",
    "                        new_row = []\n",
    "                        records = table.find_all('tr', id=f'metar-{i}{j}-51')\n",
    "                        for record in records:\n",
    "                            if record.find('td', class_='nowrap b'):\n",
    "                                for cell in record:\n",
    "                                    new_row.append(cell.text.strip())\n",
    "                        new_row.insert(0, f'{year}-{month}-{day}')\n",
    "                        rows.append(new_row)\n",
    "            \n",
    "            else:\n",
    "                print('HTTP request failed.')\n",
    "            \n",
    "    filt_rows = remove_empty_strings(rows)\n",
    "    return filt_rows"
   ]
  },
  {
   "cell_type": "code",
   "execution_count": null,
   "id": "5eafea75",
   "metadata": {},
   "outputs": [],
   "source": [
    "months = {4:30, 5:31, 6:30, 7:31, 8:31, 9:30}\n",
    "rows = weather_scraping(2014, months)"
   ]
  },
  {
   "cell_type": "code",
   "execution_count": null,
   "id": "e8fe2fcd",
   "metadata": {},
   "outputs": [],
   "source": [
    "columns = ['date', 'time', 'temperature', 'altitude', 'wind', 'visibility', 'cloud_cover']\n",
    "weather_df = pd.DataFrame(rows, columns=columns)"
   ]
  },
  {
   "cell_type": "markdown",
   "id": "5afa8884",
   "metadata": {},
   "source": [
    "### Data Preprocessing"
   ]
  },
  {
   "cell_type": "code",
   "execution_count": null,
   "id": "3c3fd36b",
   "metadata": {},
   "outputs": [],
   "source": [
    "weather_df.head()"
   ]
  },
  {
   "cell_type": "code",
   "execution_count": null,
   "id": "0b7afa47",
   "metadata": {},
   "outputs": [],
   "source": [
    "weather_df.info()"
   ]
  },
  {
   "cell_type": "markdown",
   "id": "a7d7dc0b",
   "metadata": {},
   "source": [
    "**To validate the scraping:** (24 hours * 30 days * 3 months) + (24 hours * 31 days * 3 months) = 4392 record <br>\n",
    "\n",
    "Firstly, we need to parse the date and convert the hour to the 24-hour system."
   ]
  },
  {
   "cell_type": "code",
   "execution_count": null,
   "id": "1bd26ea8",
   "metadata": {},
   "outputs": [],
   "source": [
    "weather_df.date = pd.to_datetime(weather_df.date)\n",
    "\n",
    "weather_df.date.head()"
   ]
  },
  {
   "cell_type": "code",
   "execution_count": null,
   "id": "3dd8c505",
   "metadata": {},
   "outputs": [],
   "source": [
    "def get_hour(time):\n",
    "    \"\"\"\n",
    "    This function parses the string containing the time formatted in the\n",
    "    12-hours system and returns only the hour formatted in the 24-hours system.\n",
    "    Args: the hour in 12-hours format.\n",
    "    Returns: the hour in 24-hours format.\n",
    "    \"\"\"\n",
    "    hour = datetime.strptime(time, \"%I:%M %p\").hour\n",
    "    return hour"
   ]
  },
  {
   "cell_type": "code",
   "execution_count": null,
   "id": "11f9d7b7",
   "metadata": {},
   "outputs": [],
   "source": [
    "weather_df['hour'] = weather_df.time.apply(get_hour)\n",
    "\n",
    "weather_df[['time', 'hour']].sample(5)  # Validation"
   ]
  },
  {
   "cell_type": "markdown",
   "id": "c6d54e48",
   "metadata": {},
   "source": [
    "Next, we will keep only the numeric values of \"temperature\", \"altitude\", \"wind\", \"visibility\" and drop the measurement unit."
   ]
  },
  {
   "cell_type": "code",
   "execution_count": null,
   "id": "dd8f4bd0",
   "metadata": {},
   "outputs": [],
   "source": [
    "def get_value(record):\n",
    "    \"\"\"\n",
    "    This function extracts only the numeric value from each string record.\n",
    "    Args: the string.\n",
    "    Returns: the numeric value.\n",
    "    \"\"\"\n",
    "    value = re.search(r'(\\d+\\.\\d+|\\d+)', record)\n",
    "    if value:\n",
    "        return float(value.group())\n",
    "    else:\n",
    "        return None"
   ]
  },
  {
   "cell_type": "code",
   "execution_count": null,
   "id": "2d2ac08e",
   "metadata": {},
   "outputs": [],
   "source": [
    "weather_df['parsed_temp'] = weather_df.temperature.apply(get_value)\n",
    "\n",
    "weather_df[['temperature', 'parsed_temp']].sample(5)  # Validation"
   ]
  },
  {
   "cell_type": "code",
   "execution_count": null,
   "id": "944354bb",
   "metadata": {},
   "outputs": [],
   "source": [
    "weather_df['parsed_alt'] = weather_df.altitude.apply(get_value)\n",
    "\n",
    "weather_df[['altitude', 'parsed_alt']].sample(5)  # Validation"
   ]
  },
  {
   "cell_type": "code",
   "execution_count": null,
   "id": "09d19543",
   "metadata": {},
   "outputs": [],
   "source": [
    "weather_df['parsed_wind'] = weather_df.wind.apply(get_value)\n",
    "\n",
    "weather_df[['wind', 'parsed_wind']].sample(5)  # Validation"
   ]
  },
  {
   "cell_type": "code",
   "execution_count": null,
   "id": "373c6cf6",
   "metadata": {},
   "outputs": [],
   "source": [
    "weather_df['parsed_vis'] = weather_df.visibility.apply(get_value)\n",
    "\n",
    "weather_df[['visibility', 'parsed_vis']].sample(5)  # Validation"
   ]
  },
  {
   "cell_type": "markdown",
   "id": "543f318d",
   "metadata": {},
   "source": [
    "Finally, for \"cloud_cover\", we will remove any text enclosed in parentheses and the surrounding whitespace."
   ]
  },
  {
   "cell_type": "code",
   "execution_count": null,
   "id": "a47c4b6e",
   "metadata": {},
   "outputs": [],
   "source": [
    "weather_df['parsed_cloud'] = weather_df['cloud_cover'].str.replace(r'\\s*\\(.+?\\)\\s*', '', regex=True)\n",
    "\n",
    "weather_df[['cloud_cover', 'parsed_cloud']].sample(5)  # Validation"
   ]
  },
  {
   "cell_type": "code",
   "execution_count": null,
   "id": "76241ee8",
   "metadata": {},
   "outputs": [],
   "source": [
    "filt_df = weather_df[['date', 'hour', 'parsed_temp', 'parsed_alt', 'parsed_wind', 'parsed_vis', 'parsed_cloud']]\n",
    "\n",
    "filt_df.rename(columns={'parsed_temp':'temperature', 'parsed_alt':'altitude', 'parsed_wind':'wind',\n",
    "                        'parsed_vis':'visibility', 'parsed_cloud':'cloud_cover'}, inplace=True)"
   ]
  },
  {
   "cell_type": "code",
   "execution_count": null,
   "id": "c2dc67e7",
   "metadata": {},
   "outputs": [],
   "source": [
    "filt_df.info()"
   ]
  },
  {
   "cell_type": "code",
   "execution_count": null,
   "id": "5282051f",
   "metadata": {},
   "outputs": [],
   "source": [
    "filt_df.to_csv('weather.csv', index=False)"
   ]
  },
  {
   "cell_type": "code",
   "execution_count": null,
   "id": "aed23d6e",
   "metadata": {},
   "outputs": [],
   "source": []
  },
  {
   "cell_type": "code",
   "execution_count": null,
   "id": "d992cf75",
   "metadata": {},
   "outputs": [],
   "source": []
  }
 ],
 "metadata": {
  "kernelspec": {
   "display_name": "Python 3 (ipykernel)",
   "language": "python",
   "name": "python3"
  },
  "language_info": {
   "codemirror_mode": {
    "name": "ipython",
    "version": 3
   },
   "file_extension": ".py",
   "mimetype": "text/x-python",
   "name": "python",
   "nbconvert_exporter": "python",
   "pygments_lexer": "ipython3",
   "version": "3.10.7"
  }
 },
 "nbformat": 4,
 "nbformat_minor": 5
}
